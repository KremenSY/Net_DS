{
 "cells": [
  {
   "cell_type": "code",
   "execution_count": null,
   "metadata": {},
   "outputs": [],
   "source": [
    "from datetime import datetime\n",
    "from datetime import timedelta"
   ]
  },
  {
   "cell_type": "code",
   "execution_count": 17,
   "metadata": {},
   "outputs": [
    {
     "name": "stdout",
     "output_type": "stream",
     "text": [
      "2021.06.01\n",
      "2021.06.02\n",
      "2021.06.03\n",
      "2021.06.04\n",
      "2021.06.05\n",
      "2021.06.06\n"
     ]
    }
   ],
   "source": [
    "# Задание 1\n",
    "# Напишите функцию date_range, которая возвращает список дней между датами start_date и end_date. \n",
    "# Даты должны вводиться в формате YYYY-MM-DD.\n",
    "from datetime import datetime\n",
    "from datetime import timedelta\n",
    "date_start='2021.06.01'\n",
    "date_end='2021.06.07'\n",
    "def date_range(date_start, date_end):\n",
    "    date_start_dt=datetime.strptime(date_start, \"%Y.%m.%d\")\n",
    "    date_end_dt=datetime.strptime(date_end, \"%Y.%m.%d\")\n",
    "    cur_date_dt=date_start_dt\n",
    "    dates_=[]\n",
    "    while cur_date_dt<date_end_dt:\n",
    "        dates_.append(cur_date_dt.strftime(\"%Y.%m.%d\"))\n",
    "        cur_date_dt+=timedelta(days=1)\n",
    "    return (dates_)\n",
    "\n",
    "for date_ in date_range(date_start, date_end):\n",
    "    print(date_)"
   ]
  },
  {
   "cell_type": "code",
   "execution_count": 22,
   "metadata": {},
   "outputs": [
    {
     "name": "stdout",
     "output_type": "stream",
     "text": [
      "Invalid input data\n"
     ]
    }
   ],
   "source": [
    "# Задание 2\n",
    "# Дополните функцию из первого задания проверкой на корректность дат. \n",
    "# В случае неверного формата или если start_date > end_date должен возвращаться пустой список.\n",
    "from datetime import datetime\n",
    "date_start='2021.06.09'\n",
    "date_end='2021.06.07'\n",
    "def date_range(date_start, date_end):\n",
    "    dates_=[]\n",
    "    if date_start>date_end:\n",
    "        return dates_\n",
    "    try:\n",
    "        date_start_dt=datetime.strptime(date_start, \"%Y.%m.%d\")\n",
    "        date_end_dt=datetime.strptime(date_end, \"%Y.%m.%d\")\n",
    "        cur_date_dt=date_start_dt\n",
    "        while cur_date_dt<date_end_dt:\n",
    "            dates_.append(cur_date_dt.strftime(\"%Y.%m.%d\"))\n",
    "            cur_date_dt+=timedelta(days=1)\n",
    "    except Exception as e:\n",
    "        pass\n",
    "    return (dates_)\n",
    "\n",
    "if len(date_range(date_start, date_end))==0:\n",
    "    print (\"Invalid input data\")\n",
    "else:\n",
    "    for date_ in date_range(date_start, date_end):\n",
    "        print(date_ )"
   ]
  },
  {
   "cell_type": "code",
   "execution_count": 27,
   "metadata": {},
   "outputs": [
    {
     "name": "stdout",
     "output_type": "stream",
     "text": [
      "[True, False, False]\n"
     ]
    }
   ],
   "source": [
    "# Задание 3\n",
    "# Дан поток дат в формате YYYY-MM-DD, в которых встречаются некорректные значения:\n",
    "# stream = [С2018-04-02Т, С2018-02-29Т, С2018-19-02Т]\n",
    "# Напишите функцию, которая проверяет эти даты на корректность. \n",
    "# Т. е. для каждой даты возвращает True (дата корректна) или False (некорректная дата).\n",
    "from datetime import datetime\n",
    "stream = ['C2018-04-02T', 'C2018-02-29T', 'C2018-19-02T']\n",
    "\n",
    "def is_correct_date(date_):\n",
    "    try:\n",
    "        date_dt=datetime.strptime(date_, 'C%Y-%m-%dT')\n",
    "        return True\n",
    "    except Exception as e:\n",
    "        # print (e)\n",
    "        return False\n",
    "    \n",
    "def id_correct_date_steram (stream):\n",
    "    result=[]\n",
    "    for date_ in stream:\n",
    "        result.append(is_correct_date(date_))\n",
    "    return result\n",
    "\n",
    "print (id_correct_date_steram(stream))\n",
    "        "
   ]
  },
  {
   "cell_type": "markdown",
   "metadata": {},
   "source": [
    "### Упражнение\n",
    "Создайте словарь stats = {'monday': 100, 'tuesday': 200}. \n",
    "\n",
    "Какой тип ошибки вызовет обращение stats['wednesday']?"
   ]
  },
  {
   "cell_type": "code",
   "execution_count": 33,
   "metadata": {},
   "outputs": [
    {
     "name": "stdout",
     "output_type": "stream",
     "text": [
      "<class 'KeyError'>\n"
     ]
    }
   ],
   "source": [
    "stats = {'monday': 100, 'tuesday': 200}\n",
    "try:\n",
    "    x=stats['wednesday']\n",
    "except Exception as e:\n",
    "    print (type(e))"
   ]
  },
  {
   "cell_type": "markdown",
   "metadata": {},
   "source": [
    "### Более жизненный пример"
   ]
  },
  {
   "cell_type": "code",
   "execution_count": null,
   "metadata": {},
   "outputs": [],
   "source": [
    "with open('real_data.txt', 'r') as f:\n",
    "    for line in f:\n",
    "        print(line.strip())"
   ]
  },
  {
   "cell_type": "markdown",
   "metadata": {},
   "source": [
    "Чем прекрасен этот файл:\n",
    "1. Даты имеют разный формат: за 8 и 9 октября формат с \"09.10.2016 21:40\" сменился на \"09.10.2016T 21:40:00\" (добавилась буква T и секунды). Разработчики объяснили этот тем, что сбились настройки после обновления одной из баз данных.\n",
    "2. У покупок некоторых пользователей неизвестно значение выручки, из-за чего количество столбцов в строке уменьшается на один.\n",
    "3. У некоторых строк реальная сумма покупки умножена на миллион. Так иногда действительно делают, чтобы избежать дробных чисел и работать только с целыми."
   ]
  },
  {
   "cell_type": "markdown",
   "metadata": {},
   "source": [
    "### Упражнение\n",
    "Посчитайте сумму выручки из третьего столбца. Пока не обращайте внимания на помноженную на миллион выручку."
   ]
  },
  {
   "cell_type": "code",
   "execution_count": 1,
   "metadata": {},
   "outputs": [
    {
     "name": "stdout",
     "output_type": "stream",
     "text": [
      "Sum= 180605.0 bad lines= 0 good lines= 147\n"
     ]
    }
   ],
   "source": [
    "with open ('real_data.txt', 'r') as f:\n",
    "    sum = 0.0\n",
    "    bad_lines=0\n",
    "    good_lines=0\n",
    "    for line in f:\n",
    "        try:\n",
    "            l=f.readline().strip().split()\n",
    "            if \",\" in l[2]:\n",
    "                l[2]=l[2].replace(',','.')\n",
    "#             print(l)\n",
    "            sum+=float(l[2])\n",
    "            good_lines+=1\n",
    "        except:\n",
    "            bad_lines+=1\n",
    "            pass\n",
    "    print (\"Sum=\", sum, \"bad lines=\", bad_lines, \"good lines=\", good_lines)"
   ]
  },
  {
   "cell_type": "markdown",
   "metadata": {},
   "source": [
    "### Упражнение\n",
    "С помощью метода datetime.strptime переведите строку 'May 25 2017 5:00AM' в формат datetime."
   ]
  },
  {
   "cell_type": "code",
   "execution_count": 5,
   "metadata": {},
   "outputs": [
    {
     "name": "stdout",
     "output_type": "stream",
     "text": [
      "2017-05-25 05:00:00\n"
     ]
    }
   ],
   "source": [
    "from datetime import datetime\n",
    "date_=datetime.strptime ('May 25 2017 5:00AM', \"%b %d %Y %I:%M%p\")\n",
    "print(date_)"
   ]
  },
  {
   "cell_type": "markdown",
   "metadata": {},
   "source": [
    "### Упражнение\n",
    "Дана дата в формате '2018-09-01T09:30:00'. Прибавьте к ней 12 часов 15минут и 3 секунды."
   ]
  },
  {
   "cell_type": "code",
   "execution_count": 8,
   "metadata": {},
   "outputs": [
    {
     "name": "stdout",
     "output_type": "stream",
     "text": [
      "2018-09-01 21:45:03\n"
     ]
    }
   ],
   "source": [
    "from datetime import datetime\n",
    "from datetime import timedelta\n",
    "date_=datetime.strptime ('2018-09-01T09:30:00', \"%Y-%m-%dT%H:%M:%S\")\n",
    "date_+=timedelta(hours=12, minutes=15, seconds=3)\n",
    "print(date_)"
   ]
  },
  {
   "cell_type": "markdown",
   "metadata": {},
   "source": [
    "### Упражнение\n",
    "Напишите алгоритм, который \"пробегает\" период 1 до 7 сентября по часам. Формат вывода '06.01.2018 23:00:00'."
   ]
  },
  {
   "cell_type": "code",
   "execution_count": 10,
   "metadata": {},
   "outputs": [
    {
     "name": "stdout",
     "output_type": "stream",
     "text": [
      "2018-01-01\n",
      "2018-01-02\n",
      "2018-01-03\n",
      "2018-01-04\n",
      "2018-01-05\n",
      "2018-01-06\n",
      "2018-01-07\n"
     ]
    }
   ],
   "source": [
    "start_date = '2018-01-01'\n",
    "end_date = '2018-01-07'\n",
    "start_date_dt=datetime.strptime(start_date, \"%Y-%m-%d\")\n",
    "end_date_dt=datetime.strptime(end_date, \"%Y-%m-%d\")\n",
    "current_dt=start_date_dt\n",
    "while current_dt<=end_date_dt :\n",
    "    print(current_dt.strftime(\"%Y-%m-%d\"))\n",
    "    current_dt+=timedelta(days=1)"
   ]
  },
  {
   "cell_type": "markdown",
   "metadata": {},
   "source": [
    "# Задача про интервалы\n",
    "Имеется список отсортированных по возрастанию целых чисел data. А также целое число n, которое лежит между минимальным и максимальным значениями из списка data. Вам необходимо определить минимальное ближайшее число к n из списка data.\n",
    "\n",
    "Пример:\n",
    "```python\n",
    "data = [1, 7, 17, 23, 27, 35, 65]\n",
    "n = 20\n",
    "```\n",
    "\n",
    "Ответ: 17\n",
    "\n",
    "Подобные алгоритмы используются для классификации объекта по значению одной метрики. Например, это может пригодиться для классификации учащегося по его возрасту:\n",
    "```python\n",
    "ages = {\n",
    "    1: 'дети',\n",
    "    7: 'школьники',\n",
    "    17: 'студенты',\n",
    "    23: 'аспиранты',\n",
    "    27: 'молодые ученые',\n",
    "    35: 'преподаватели',\n",
    "    65: 'пенсионеры',\n",
    "}\n",
    "```\n",
    "\n",
    "Итого напишите функцию, которая по списку data и числу n возвращает минимальное ближайшее к n число. Список может быть любым, поэтому не рассчитывайте на написание цепочки условий через if.\n",
    "\n",
    "Бонусные варианты:\n",
    "1. Рассмотрите ситуацию, в которой при фиксированном списке data вам необходимо классифицировать большое количество пользователей с разными значениями n. Например, вам необходимо классифицировать базу из 100 миллионов человек по возрастам по словарю ages из примера выше. Можно ли в таком случае ускорить проход по такому числу пользователей?\n",
    "\n",
    "2. Если вы решали основное задание перебором элементов списка data и сравнением с n, то сложность такого алгоритма O(N). Т. е. при увеличении числа элементов списка data в N раз время работы алгоритма тоже вырастет в N раз. Попробуйте ускорить этот алгоритм. Например, с помощью аналога бинарного поиска."
   ]
  },
  {
   "cell_type": "code",
   "execution_count": 19,
   "metadata": {},
   "outputs": [
    {
     "name": "stdout",
     "output_type": "stream",
     "text": [
      "17\n"
     ]
    }
   ],
   "source": [
    "import math\n",
    "data = [1, 7, 17, 23, 27, 35, 65]\n",
    "n = 20\n",
    "\n",
    "def closest(data, n):\n",
    "    ind = 0\n",
    "    dif = math.fabs(data[0] - n)\n",
    "    for i in range(0, len(data)):\n",
    "        try:\n",
    "            if math.fabs(data[i] - n) < dif:\n",
    "                dif = math.fabs(data[i] - n)\n",
    "                ind = i\n",
    "        except Exception as e:\n",
    "            pass\n",
    "        finally:\n",
    "            i += 1\n",
    "    return data[ind]\n",
    "\n",
    "print (closest(data, n))"
   ]
  },
  {
   "cell_type": "code",
   "execution_count": 27,
   "metadata": {},
   "outputs": [
    {
     "name": "stdout",
     "output_type": "stream",
     "text": [
      "17\n"
     ]
    }
   ],
   "source": [
    "data = [1, 7, 17, 23, 27, 35, 65]\n",
    "n=20\n",
    "def get_nearest_value(data, n):\n",
    "    return min(data, key=lambda x: abs(x - n))\n",
    "print(get_nearest_value(data, n))"
   ]
  },
  {
   "cell_type": "code",
   "execution_count": 31,
   "metadata": {},
   "outputs": [
    {
     "name": "stdout",
     "output_type": "stream",
     "text": [
      "(17, 2)\n"
     ]
    }
   ],
   "source": [
    "data = [1, 7, 17, 23, 27, 35, 65]\n",
    "n=20\n",
    "# binary search \n",
    "def get_nearest_value(data, n):\n",
    "    left = 0\n",
    "    right = len(data)\n",
    "    while (right - left > 1):\n",
    "        i = left + (right - left) // 2\n",
    "        if n < data[i]:\n",
    "            right = i\n",
    "        else:\n",
    "            left = i\n",
    "    a = min([(abs(n - data[j]), data[j], j) for j in (i - 1, i, i + 1)])\n",
    "    # print(a)\n",
    "    return a[1:3] # return number and index\n",
    "print(get_nearest_value(data, n))"
   ]
  }
 ],
 "metadata": {
  "kernelspec": {
   "display_name": "Python 3",
   "language": "python",
   "name": "python3"
  },
  "language_info": {
   "codemirror_mode": {
    "name": "ipython",
    "version": 3
   },
   "file_extension": ".py",
   "mimetype": "text/x-python",
   "name": "python",
   "nbconvert_exporter": "python",
   "pygments_lexer": "ipython3",
   "version": "3.9.5"
  }
 },
 "nbformat": 4,
 "nbformat_minor": 2
}
