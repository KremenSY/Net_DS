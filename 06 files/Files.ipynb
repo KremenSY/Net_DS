{
 "cells": [
  {
   "cell_type": "markdown",
   "metadata": {},
   "source": [
    "### Упражнение на списки и функции\n",
    "(с файлами их всегда много)\n",
    "\n",
    "Дана строчка sequence с последовательностью натуральных чисел, разделенных пробелом. Посчитайте:\n",
    "1. Количество четных и нечетных чисел в этой строке\n",
    "2. Если четных больше, то укажите номер позиции первого \"лишнего\" нечетного числа\n",
    "3. Если нечетных больше, то укажите позицию первого \"лишнего\" четного числа\n",
    "4. Как бонусный вариант оформите код в виде функции"
   ]
  },
  {
   "cell_type": "code",
   "execution_count": 1,
   "metadata": {},
   "outputs": [
    {
     "name": "stdout",
     "output_type": "stream",
     "text": [
      "['2', '3', '1', '5', '9', '22', '3', '5']\n",
      "Firs extra odd number 5 has index 3 \n"
     ]
    }
   ],
   "source": [
    "sequence = '2 3 1 5 9 22 3 5'\n",
    "s=sequence.split(' ')\n",
    "def get_first_extra(s):\n",
    "    num_odd = 0\n",
    "    num_even = 0\n",
    "    for i in range (0, len(s)):\n",
    "        if int(s[i])%2==0:\n",
    "            num_even+=1\n",
    "        else:\n",
    "            num_odd+=1\n",
    "    index=0\n",
    "    if num_even>num_odd:\n",
    "        num_even=0\n",
    "        for i in range (0, len(s)):\n",
    "            if int(s[i])%2==0 and num_even<=num_odd:\n",
    "                num_even+=1\n",
    "                index=i\n",
    "        return 'even', index\n",
    "    if num_odd>num_even:\n",
    "        num_odd=0\n",
    "        for i in range (0, len(s)):\n",
    "            if int(s[i])%2==1 and num_odd<=num_even:\n",
    "                num_odd+=1\n",
    "                index=i\n",
    "        return 'odd', index\n",
    "\n",
    "type, index=get_first_extra(s)\n",
    "print (f\"Firs extra {type} number {s[index]} has index {index} \")"
   ]
  },
  {
   "cell_type": "markdown",
   "metadata": {},
   "source": [
    "### Упражнение\n",
    "Напишите функцию (или просто код), который возвращает список из первых N строк файла purchase_log.txt без записи всего содержимого файла в оперативную память."
   ]
  },
  {
   "cell_type": "code",
   "execution_count": 5,
   "metadata": {},
   "outputs": [
    {
     "name": "stdout",
     "output_type": "stream",
     "text": [
      "First 10 strings from file: visit_log.csv: \n",
      "user_id,source\n",
      "\n",
      "6450655ae8,other\n",
      "\n",
      "b4ea53e670,other\n",
      "\n",
      "0e37347152,other\n",
      "\n",
      "96064ae9e0,other\n",
      "\n",
      "e1bd168161,context\n",
      "\n",
      "71bcf169b4,other\n",
      "\n",
      "e0aee73c5d,other\n",
      "\n",
      "1f8845e157,context\n",
      "\n",
      "78d22c5c78,other\n",
      "\n",
      "dd85040770,other\n",
      "\n"
     ]
    }
   ],
   "source": [
    "filename='visit_log.csv'\n",
    "n=10\n",
    "def N_first_strings(filename, n):\n",
    "    with open (filename, 'r') as f:\n",
    "        n_lines=[]\n",
    "        for i in range(0,n+1):\n",
    "            n_lines.append(f.readline())\n",
    "        return n_lines\n",
    "print(f\"First {n} strings from file: {filename}: \")\n",
    "for line in N_first_strings(filename, n):\n",
    "    print(line)"
   ]
  },
  {
   "cell_type": "markdown",
   "metadata": {},
   "source": [
    "### Упражнение\n",
    "Напишите функцию, которая фильтрует файл visit_log.csv по источнику context и пишет результат в visits_context.csv. Используйте функцию из второго упражнения для проверки результата."
   ]
  },
  {
   "cell_type": "code",
   "execution_count": 10,
   "metadata": {},
   "outputs": [
    {
     "name": "stdout",
     "output_type": "stream",
     "text": [
      "['e1bd168161,context\\n', '1f8845e157,context\\n', '86835b81ac,context\\n', 'dd3d43c266,context\\n', 'f6401d302f,context\\n']\n"
     ]
    }
   ],
   "source": [
    "filename='visit_log.csv'\n",
    "context_filename=\"visit_context.csv\"\n",
    "n=5\n",
    "\n",
    "def filter_context (filename, context_filename):\n",
    "    with open(filename, 'r') as f_log:\n",
    "        with open (context_filename, \"w\") as f_context:\n",
    "            for line in f_log:\n",
    "                if 'context' in line:\n",
    "                    f_context.write(line)\n",
    "                    \n",
    "def prinf_fist_N_sgrings_from_File(context_filename):\n",
    "    with open (context_filename, \"r\") as f:\n",
    "        print([next(f) for x in range(n)])\n",
    "        \n",
    "filter_context (filename, context_filename)\n",
    "prinf_fist_N_sgrings_from_File(context_filename)"
   ]
  },
  {
   "cell_type": "markdown",
   "metadata": {},
   "source": [
    "### Упражнение\n",
    "1. Посчитайте распределение количества покупок по категориям в столбце category\n",
    "2. Составьте словарь, в котором для каждого user_id значением будет название категории"
   ]
  },
  {
   "cell_type": "code",
   "execution_count": 29,
   "metadata": {},
   "outputs": [
    {
     "name": "stdout",
     "output_type": "stream",
     "text": [
      "{'Продукты': 14010, 'Электроника': 33466, 'Бытовая техника': 23670, 'Досуг': 11783, 'Товары для животных': 7028, 'Строительство и ремонт': 9009, 'не определена': 1033}\n"
     ]
    }
   ],
   "source": [
    "with open (\"purchase_log.txt\", \"r\") as f:\n",
    "    purchases=[]\n",
    "    for line in f:\n",
    "        line=line.strip()\n",
    "        dict_=json.loads(line)\n",
    "        purchases.append(dict_)\n",
    "        #print (dict_)\n",
    "purchase_num_by_cat={}\n",
    "for purchase in purchases:\n",
    "#     print (purchase['category'])\n",
    "    cat=purchase['category']\n",
    "    if cat in purchase_num_by_cat.keys():\n",
    "        purchase_num_by_cat[cat]+=1\n",
    "    else:\n",
    "        purchase_num_by_cat[cat]=1\n",
    "del purchase_num_by_cat['category']\n",
    "print(purchase_num_by_cat)"
   ]
  },
  {
   "cell_type": "markdown",
   "metadata": {},
   "source": [
    "# Домашнее задание\n",
    "1. Переведите содержимое файла purchase_log.txt в словарь purchases вида:\n",
    "```python\n",
    "{'1840e0b9d4': 'Продукты', ...}\n",
    "```\n",
    "\n",
    "2. Для каждого user_id в файле visit_log.csv определите третий столбец с категорией покупки (если покупка была, сам файл visit_log.csv изменять не надо). Запишите в файл funnel.csv визиты из файла visit_log.csv, в которых были покупки с указанием категории.\n",
    "\n",
    "Учтите условия на данные:\n",
    "- содержимое purchase_log.txt помещается в оперативную память компьютера\n",
    "- содержимое visit_log.csv - нет; используйте только построчную обработку этого файла"
   ]
  },
  {
   "cell_type": "code",
   "execution_count": 33,
   "metadata": {},
   "outputs": [],
   "source": [
    "import json\n",
    "purchase_log_dict={}\n",
    "with open('purchase_log.txt', 'r') as f:\n",
    "    for line in f:\n",
    "        line_dict=json.loads(f.readline().strip())\n",
    "        purchase_log_dict[line_dict['user_id']]=line_dict[\"category\"]\n",
    "# print (purchase_log_dict)\n",
    "with open('visit_log.csv', 'r') as visit_log:\n",
    "    with open ('funnel.csv', 'w') as funnel:\n",
    "        for line in visit_log:\n",
    "            l=visit_log.readline().strip().split(\",\")\n",
    "            if l[0] in purchase_log_dict:\n",
    "                funnel.write(f\"{l[0]},{l[1]},{purchase_log_dict[l[0]]}\\n\")\n",
    "# with open('funnel.csv', 'r') as f:\n",
    "#     print([line for line in f])"
   ]
  }
 ],
 "metadata": {
  "kernelspec": {
   "display_name": "Python 3",
   "language": "python",
   "name": "python3"
  },
  "language_info": {
   "codemirror_mode": {
    "name": "ipython",
    "version": 3
   },
   "file_extension": ".py",
   "mimetype": "text/x-python",
   "name": "python",
   "nbconvert_exporter": "python",
   "pygments_lexer": "ipython3",
   "version": "3.9.5"
  }
 },
 "nbformat": 4,
 "nbformat_minor": 2
}
