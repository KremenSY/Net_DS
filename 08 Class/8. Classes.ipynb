{
 "cells": [
  {
   "cell_type": "markdown",
   "metadata": {},
   "source": [
    "### Упражнение\n",
    "Дана строка со значениями, которые разделены запятыми:"
   ]
  },
  {
   "cell_type": "code",
   "execution_count": 1,
   "metadata": {},
   "outputs": [],
   "source": [
    "line = '2019-07-01,organic,4293'"
   ]
  },
  {
   "cell_type": "markdown",
   "metadata": {},
   "source": [
    "**Задача**\n",
    "\n",
    "Напишите функцию column_count, которая возвращает число столбцов в такой строке\n",
    "\n",
    "**Подсказка**\n",
    "\n",
    "Можно перевести эту строку в список с помощью метода split: line.split(','). И затем посчитать количество элементов в нем (функция len)"
   ]
  },
  {
   "cell_type": "code",
   "execution_count": 3,
   "metadata": {},
   "outputs": [
    {
     "data": {
      "text/plain": [
       "3"
      ]
     },
     "execution_count": 3,
     "metadata": {},
     "output_type": "execute_result"
    }
   ],
   "source": [
    "line='2019-07-01,organic,4293'\n",
    "\n",
    "def column_count(line):\n",
    "    return len(line.strip().split(','))\n",
    "\n",
    "column_count(line)"
   ]
  },
  {
   "cell_type": "code",
   "execution_count": 5,
   "metadata": {},
   "outputs": [],
   "source": [
    "# !pip3 install requests"
   ]
  },
  {
   "cell_type": "markdown",
   "metadata": {},
   "source": [
    "### Упражнение\n",
    "Создайте класс сотрудника Employee. При инициализации класса задается имя сотрудника name и его текущая зарплата salary. Напишите следующие методы:\n",
    "1. Метод up, который увеличивает зарплату сотрудника на 100\n",
    "2. Метод print, который выводит на экран текущую зарплату сотрудника в формате \"Сотрудник Иван, зарплата 100\""
   ]
  },
  {
   "cell_type": "code",
   "execution_count": 10,
   "metadata": {},
   "outputs": [
    {
     "name": "stdout",
     "output_type": "stream",
     "text": [
      "Зряплата выросла до 600\n",
      "None\n",
      "Елена 600\n",
      "Сотрудник Елена, зарплата 600. \n"
     ]
    }
   ],
   "source": [
    "class Employee:\n",
    "    def __init__(self, name, salary):\n",
    "        self.name = name\n",
    "        self.salary = salary\n",
    "    \n",
    "    def up(self, num=100):\n",
    "        self.salary += num\n",
    "        print(f'Зряплата выросла до {self.salary}') \n",
    "    \n",
    "    def print_(self, text=''):\n",
    "        print(f'Сотрудник {self.name}, зарплата {self.salary}. {text}')\n",
    "\n",
    "elena = Employee('Елена', 500)\n",
    "print(elena.up())\n",
    "print(elena.name, elena.salary)\n",
    "elena.print_()"
   ]
  },
  {
   "cell_type": "markdown",
   "metadata": {},
   "source": [
    "### Упражнение\n",
    "Создайте класс Employee. При инициализации указываются имя сотрудника (name) и трудовой стаж в пройденных аккредитациях (seniority). Напишите метод init, в котором задаются соответствующие переменные - self.name и self.seniority."
   ]
  },
  {
   "cell_type": "code",
   "execution_count": 13,
   "metadata": {},
   "outputs": [
    {
     "name": "stdout",
     "output_type": "stream",
     "text": [
      "John 2\n"
     ]
    }
   ],
   "source": [
    "class Employee:\n",
    "    def __init__(self, name=\"Someone\", seniority=0):\n",
    "        self.name=name\n",
    "        self.seniority=seniority\n",
    "\n",
    "e=Employee(\"John\", 2)\n",
    "print(e.name, e.seniority)"
   ]
  },
  {
   "cell_type": "markdown",
   "metadata": {},
   "source": [
    "### Упражнение\n",
    "Заведите переменную self.grade при инициализации класса со значением 0. Добавьте метод grade_up, который увеличивает это значение на 1. На всякий случай - этот метод может ничего не возвращать, только изменять переменную."
   ]
  },
  {
   "cell_type": "code",
   "execution_count": 15,
   "metadata": {},
   "outputs": [
    {
     "name": "stdout",
     "output_type": "stream",
     "text": [
      "1\n"
     ]
    }
   ],
   "source": [
    "class Employee:\n",
    "    \n",
    "    @property\n",
    "    def grade (self):\n",
    "        return self._grade\n",
    "    @grade.setter\n",
    "    def grade(self, grade):\n",
    "        self._grade=grade\n",
    "\n",
    "    def __init__(self, name=\"Someone\", seniority=0, grade=0):\n",
    "        self.name=name\n",
    "        self.seniority=seniority\n",
    "        self.grade=grade\n",
    "    \n",
    "    def grade_up(self):\n",
    "        self.grade+=1\n",
    "\n",
    "e=Employee(\"John\", 2)\n",
    "e.grade_up()\n",
    "print(e.grade)"
   ]
  },
  {
   "cell_type": "code",
   "execution_count": 14,
   "metadata": {},
   "outputs": [
    {
     "name": "stdout",
     "output_type": "stream",
     "text": [
      "('XDR', 106.3089)\n",
      "USD: 73.587\n",
      "EUR: 89.6731\n",
      "diff USD: 0.1290000000000049\n",
      "diff EUR: 0.017600000000001614\n"
     ]
    }
   ],
   "source": [
    "# Задание 1\n",
    "# Напишите функцию, которая возвращает название валюты (поле Name) с максимальным значением курса \n",
    "# с помощью сервиса https://www.cbr-xml-daily.ru/daily_json.js\n",
    "\n",
    "# Задание 2\n",
    "# Добавьте в класс Rate параметр diff (со значениями True или False), \n",
    "# который в случае значения True в методах eur и usd будет возвращать не курс валюты, \n",
    "# а изменение по сравнению в прошлым значением. \n",
    "# —читайте, self.diff будет принимать значение True только при возврате значения курса. \n",
    "# При отображении всей информации о валюте он не используется.\n",
    "\n",
    "import requests\n",
    "class Rate():\n",
    "    \n",
    "    @property\n",
    "    def diff(self):\n",
    "        return self._diff\n",
    "    @diff.setter\n",
    "    def diff(self, diff):\n",
    "        self._diff=diff\n",
    "        \n",
    "    @property\n",
    "    def format_(self):\n",
    "        return self._format\n",
    "    @format_.setter\n",
    "    def format_(self, format_):\n",
    "        self._format=format_\n",
    "    \n",
    "    \"\"\"\n",
    "    class for work wit currency from https://www.cbr-xml-daily.ru API\n",
    "    \"\"\"\n",
    "    def __init__(self, format_='value', diff=False):\n",
    "        self.format_=format_\n",
    "        self.diff=diff\n",
    "    def exchange_rates(self):\n",
    "        \"\"\"\n",
    "        Returns a service response with information about currencies in the form:\n",
    "\n",
    "            {\n",
    "                'AMD': {\n",
    "                    'CharCode': 'AMD',\n",
    "                    'ID': 'R01060',\n",
    "                    'Name': 'Армянских драмов',\n",
    "                    'Nominal': 100,\n",
    "                    'NumCode': '051',\n",
    "                    'Previous': 14.103,\n",
    "                    'Value': 14.0879\n",
    "                    },\n",
    "                ...\n",
    "            }\n",
    "        \"\"\"\n",
    "        self.r=requests.get('https://www.cbr-xml-daily.ru/daily_json.js')\n",
    "        return self.r.json()['Valute']\n",
    "\n",
    "    def make_format(self, currency, diff=False):\n",
    "        \"\"\"\n",
    "        Returns information about the currency currency in two variants:\n",
    "         - full information about the currency with self.format = 'full':\n",
    "        Rate('full').make_format('EUR')\n",
    "        {\n",
    "            'CharCode': 'EUR',\n",
    "            'ID': 'R01239',\n",
    "            'Name': 'Евро',\n",
    "            'Nominal': 1,\n",
    "            'NumCode': '978',\n",
    "            'Previous': 79.6765,\n",
    "            'Value': 79.4966\n",
    "        }\n",
    "\n",
    "        Rate('value').make_format('EUR')\n",
    "        79.4966\n",
    "        \"\"\"\n",
    "        responce=self.exchange_rates()\n",
    "        if currency in responce:\n",
    "            if self.format_=='full':\n",
    "                return responce[currency]\n",
    "            if self.format_=='value':\n",
    "                if diff==False:\n",
    "                    return responce[currency]['value']\n",
    "                \n",
    "                else:\n",
    "                    return responce[currency]['value']-responce[currency]['previous']\n",
    "        return 'Error'\n",
    "\n",
    "    def eur(self):\n",
    "        \"\"\"Returns the euro exchange rate for today in self.format format\"\"\"\n",
    "        result=self.make_format('EUR')\n",
    "        if self.diff==False:\n",
    "            return f\"EUR: {result['Value']}\"\n",
    "        else:\n",
    "            return f\"diff EUR: {result['Value']-result['Previous']}\"\n",
    "\n",
    "    def usd(self, diff=False):\n",
    "        \"\"\"Returns the dollar exchange rate for today in self.format format\"\"\"\n",
    "        result=self.make_format('USD')\n",
    "        if self.diff==False:\n",
    "            return f\"USD: {result['Value']}\"\n",
    "        else:\n",
    "            return f\"diff USD: {result['Value']-result['Previous']}\"\n",
    "\n",
    "    def brl (self):\n",
    "        \"\"\"Returns the current rate of the Brazilian real in self.format format\"\"\"\n",
    "        return self.make_format('BRL')\n",
    "    \n",
    "    def max_excange(self):\n",
    "        \"\"\"Returns the currency wich has maximum exchange rate\"\"\"\n",
    "        responce=self.exchange_rates()\n",
    "        max_currency='USD'\n",
    "        for item in responce:\n",
    "            if responce[item]['Value']>responce[max_currency]['Value']:\n",
    "                max_currency=item\n",
    "        return max_currency, responce[max_currency]['Value']\n",
    "\n",
    "    \n",
    "\n",
    "r=Rate(format_='full', diff=False)\n",
    "# print(r.make_format('GBP'))\n",
    "# print(r.usd())\n",
    "# print(r.exchange_rates())\n",
    "# help(r.exchange_rates)\n",
    "print(r.max_excange())\n",
    "r.diff=False\n",
    "print(r.usd())\n",
    "print(r.eur())\n",
    "r.diff=True\n",
    "print(r.usd())\n",
    "print(r.eur())"
   ]
  },
  {
   "cell_type": "markdown",
   "metadata": {},
   "source": [
    "# Домашнее задание задача 3\n",
    "\n",
    "Напишите класс Designer, который учитывает количество международных премий для дизайнеров (из презентации: \"Повышение на 1 грейд за каждые 7 баллов. Получение международной премии – это +2 балла\"). Считайте, что при выходе на работу сотрудник уже имеет две премии и их количество не меняется со стажем (конечно если хотите это можно вручную менять). Выполните проверку для 20 аккредитаций дизайнера Елены.\n",
    "\n",
    "Для проверки используйте код:"
   ]
  },
  {
   "cell_type": "code",
   "execution_count": null,
   "metadata": {},
   "outputs": [],
   "source": [
    "elena = Designer('Елена', seniority=0, awards=2)"
   ]
  },
  {
   "cell_type": "code",
   "execution_count": null,
   "metadata": {},
   "outputs": [],
   "source": [
    "for i in range(20):\n",
    "    elena.check_if_it_is_time_for_upgrade()"
   ]
  },
  {
   "cell_type": "code",
   "execution_count": 22,
   "metadata": {},
   "outputs": [
    {
     "name": "stdout",
     "output_type": "stream",
     "text": [
      "Alxander 1\n",
      "Alxander 1\n",
      "Alxander 1\n",
      "Alxander 1\n",
      "Alxander 2\n",
      "Alxander 2\n",
      "Alxander 2\n",
      "Alxander 2\n",
      "Alxander 2\n",
      "Alxander 3\n",
      "Alxander 3\n",
      "Alxander 3\n",
      "Alxander 3\n",
      "Alxander 3\n",
      "Alxander 4\n",
      "Alxander 4\n",
      "Alxander 4\n",
      "Alxander 4\n",
      "Alxander 4\n",
      "Alxander 5\n",
      "Elena 1\n",
      "Elena 1\n",
      "Elena 2\n",
      "Elena 2\n",
      "Elena 2\n",
      "Elena 2\n",
      "Elena 2\n",
      "Elena 2\n",
      "Elena 2\n",
      "Elena 3\n",
      "Elena 3\n",
      "Elena 3\n",
      "Elena 3\n",
      "Elena 3\n",
      "Elena 3\n",
      "Elena 3\n",
      "Elena 4\n",
      "Elena 4\n",
      "Elena 4\n",
      "Elena 4\n"
     ]
    }
   ],
   "source": [
    "class Employee:\n",
    "    def __init__(self, name, seniority=0):\n",
    "        self.name=name\n",
    "        self.seniority=seniority\n",
    "        self.grade=1\n",
    "    def grade_up(self):\n",
    "        \"\"\"Повышает уровень сотрудника\"\"\"\n",
    "        self.grade+=1\n",
    "    def publish_grade(self):\n",
    "        \"\"\"Публикация результатов аккредитации сотрудников\"\"\"\n",
    "        print(self.name, self.grade)\n",
    "    def check_if_it_is_time_for_upgrade(selfself):\n",
    "        pass\n",
    "\n",
    "class Developer (Employee):\n",
    "    def __init__(selfself, name, seniority):\n",
    "        super().__init__(name, seniority)\n",
    "    def check_if_it_is_time_for_upgrade(self):\n",
    "        \"\"\"\n",
    "        для каждой аккредитации увеличиваем счетчик на 1\n",
    "        пока считаем, что все разработчики проходят аккредитацию\n",
    "        \"\"\"\n",
    "        self.seniority+=1\n",
    "        if self.seniority%5==0:\n",
    "            self.grade_up()\n",
    "        return self.publish_grade()\n",
    "\n",
    "alex=Developer('Alxander', 0)\n",
    "for i in range(20):\n",
    "    alex.check_if_it_is_time_for_upgrade()\n",
    "\n",
    "class Designer (Employee):\n",
    "    def __init__(self, name, seniority=0, awards=2):\n",
    "        super().__init__(name, seniority)\n",
    "        self.awards=awards\n",
    "    def check_if_it_is_time_for_upgrade(self):\n",
    "        \"\"\"Повышение на 1 грейд за каждые 7 баллов.\n",
    "        Получение международной премии – это +2 балла\".\n",
    "        Считайте, что при выходе на работу сотрудник уже имеет две премии\n",
    "        и их количество не меняется со стажем\"\"\"\n",
    "        self.seniority += 1\n",
    "        if (self.awards*2+self.seniority)%7==0:\n",
    "            self.grade_up()\n",
    "        return self.publish_grade()\n",
    "\n",
    "elena=Designer (\"Elena\", seniority=0, awards=2)\n",
    "for i in range(20):\n",
    "    elena.check_if_it_is_time_for_upgrade()"
   ]
  }
 ],
 "metadata": {
  "kernelspec": {
   "display_name": "Python 3",
   "language": "python",
   "name": "python3"
  },
  "language_info": {
   "codemirror_mode": {
    "name": "ipython",
    "version": 3
   },
   "file_extension": ".py",
   "mimetype": "text/x-python",
   "name": "python",
   "nbconvert_exporter": "python",
   "pygments_lexer": "ipython3",
   "version": "3.9.5"
  }
 },
 "nbformat": 4,
 "nbformat_minor": 2
}
